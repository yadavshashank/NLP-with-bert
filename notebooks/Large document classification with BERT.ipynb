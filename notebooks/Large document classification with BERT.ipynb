{
 "cells": [
  {
   "cell_type": "code",
   "execution_count": 1,
   "id": "passive-practitioner",
   "metadata": {},
   "outputs": [],
   "source": [
    "import pandas as pd\n",
    "import matplotlib.pyplot as plt\n",
    "import seaborn as sb\n",
    "import numpy as np\n",
    "\n",
    "import tensorflow as tf\n",
    "import tensorflow_hub as hub\n",
    "from sklearn.model_selection import train_test_split\n",
    "from sklearn.preprocessing import LabelEncoder\n",
    "from tensorflow.keras import utils as np_utils\n",
    "import tensorflow_text as text\n",
    "\n",
    "import official.nlp.bert.bert_models\n",
    "import official.nlp.bert.configs\n",
    "import official.nlp.bert.run_classifier\n",
    "import official.nlp.bert.tokenization as tokenization\n",
    "from official.modeling import tf_utils\n",
    "from official import nlp\n",
    "from official.nlp import bert\n",
    "\n",
    "from summa.summarizer import summarize\n",
    "import re\n",
    "\n",
    "import os\n",
    "# os.environ[\"CUDA_VISIBLE_DEVICES\"] = \"-1\"\n"
   ]
  },
  {
   "cell_type": "code",
   "execution_count": 2,
   "id": "latest-peeing",
   "metadata": {},
   "outputs": [
    {
     "name": "stdout",
     "output_type": "stream",
     "text": [
      "1 Physical GPUs, 1 Logical GPUs\n",
      "Version:  2.4.0\n",
      "Eager mode:  True\n",
      "Hub version:  0.11.0\n",
      "GPU is available\n"
     ]
    }
   ],
   "source": [
    "gpus = tf.config.experimental.list_physical_devices('GPU')\n",
    "if gpus:\n",
    "    try:\n",
    "        # Currently, memory growth needs to be the same across GPUs\n",
    "        for gpu in gpus:\n",
    "            tf.config.experimental.set_memory_growth(gpu, True)\n",
    "        logical_gpus = tf.config.experimental.list_logical_devices('GPU')\n",
    "        print(len(gpus), \"Physical GPUs,\", len(logical_gpus), \"Logical GPUs\")\n",
    "    except RuntimeError as e:\n",
    "        # Memory growth must be set before GPUs have been initialized\n",
    "        print(e)\n",
    "\n",
    "print(\"Version: \", tf.__version__)\n",
    "print(\"Eager mode: \", tf.executing_eagerly())\n",
    "print(\"Hub version: \", hub.__version__)\n",
    "print(\"GPU is\", \"available\" if tf.config.list_physical_devices('GPU') else \"NOT AVAILABLE\")"
   ]
  },
  {
   "cell_type": "code",
   "execution_count": 3,
   "id": "protecting-trademark",
   "metadata": {},
   "outputs": [],
   "source": [
    "# Read file\n",
    "data = pd.read_csv('../datasets/IMDB Dataset.csv',\n",
    "                   encoding='ISO-8859-1')"
   ]
  },
  {
   "cell_type": "code",
   "execution_count": 4,
   "id": "excellent-making",
   "metadata": {},
   "outputs": [
    {
     "data": {
      "text/html": [
       "<div>\n",
       "<style scoped>\n",
       "    .dataframe tbody tr th:only-of-type {\n",
       "        vertical-align: middle;\n",
       "    }\n",
       "\n",
       "    .dataframe tbody tr th {\n",
       "        vertical-align: top;\n",
       "    }\n",
       "\n",
       "    .dataframe thead th {\n",
       "        text-align: right;\n",
       "    }\n",
       "</style>\n",
       "<table border=\"1\" class=\"dataframe\">\n",
       "  <thead>\n",
       "    <tr style=\"text-align: right;\">\n",
       "      <th></th>\n",
       "      <th>review</th>\n",
       "      <th>sentiment</th>\n",
       "    </tr>\n",
       "  </thead>\n",
       "  <tbody>\n",
       "    <tr>\n",
       "      <th>0</th>\n",
       "      <td>One of the other reviewers has mentioned that ...</td>\n",
       "      <td>positive</td>\n",
       "    </tr>\n",
       "    <tr>\n",
       "      <th>1</th>\n",
       "      <td>A wonderful little production. &lt;br /&gt;&lt;br /&gt;The...</td>\n",
       "      <td>positive</td>\n",
       "    </tr>\n",
       "    <tr>\n",
       "      <th>2</th>\n",
       "      <td>I thought this was a wonderful way to spend ti...</td>\n",
       "      <td>positive</td>\n",
       "    </tr>\n",
       "    <tr>\n",
       "      <th>3</th>\n",
       "      <td>Basically there's a family where a little boy ...</td>\n",
       "      <td>negative</td>\n",
       "    </tr>\n",
       "    <tr>\n",
       "      <th>4</th>\n",
       "      <td>Petter Mattei's \"Love in the Time of Money\" is...</td>\n",
       "      <td>positive</td>\n",
       "    </tr>\n",
       "  </tbody>\n",
       "</table>\n",
       "</div>"
      ],
      "text/plain": [
       "                                              review sentiment\n",
       "0  One of the other reviewers has mentioned that ...  positive\n",
       "1  A wonderful little production. <br /><br />The...  positive\n",
       "2  I thought this was a wonderful way to spend ti...  positive\n",
       "3  Basically there's a family where a little boy ...  negative\n",
       "4  Petter Mattei's \"Love in the Time of Money\" is...  positive"
      ]
     },
     "execution_count": 4,
     "metadata": {},
     "output_type": "execute_result"
    }
   ],
   "source": [
    "data.head()"
   ]
  },
  {
   "cell_type": "code",
   "execution_count": 5,
   "id": "surprised-sweden",
   "metadata": {},
   "outputs": [
    {
     "data": {
      "text/plain": [
       "array(['positive', 'negative'], dtype=object)"
      ]
     },
     "execution_count": 5,
     "metadata": {},
     "output_type": "execute_result"
    }
   ],
   "source": [
    "data.sentiment.unique()"
   ]
  },
  {
   "cell_type": "markdown",
   "id": "suspected-bangkok",
   "metadata": {},
   "source": [
    "### EDA"
   ]
  },
  {
   "cell_type": "code",
   "execution_count": 6,
   "id": "advisory-parent",
   "metadata": {},
   "outputs": [
    {
     "data": {
      "image/png": "[encoded data removed]",
      "text/plain": [
       "<Figure size 432x288 with 1 Axes>"
      ]
     },
     "metadata": {
      "needs_background": "light"
     },
     "output_type": "display_data"
    }
   ],
   "source": [
    "# Distribution of data under target classes\n",
    "classes = data.sentiment.unique()\n",
    "counts = []\n",
    "\n",
    "for i in classes:\n",
    "    count = len(data[data.sentiment==i])\n",
    "    counts.append(count)\n",
    "\n",
    "plt.bar(['negative', 'positive'], counts)\n",
    "plt.show()"
   ]
  },
  {
   "cell_type": "code",
   "execution_count": 7,
   "id": "juvenile-christian",
   "metadata": {},
   "outputs": [],
   "source": [
    "# Storing tokenized tweet and number of words in each tweet \n",
    "data['review_list'] = data['review'].apply(lambda x:str(x).split())\n",
    "data['num_of_words'] = data['review'].apply(lambda x:len(str(x).split()))"
   ]
  },
  {
   "cell_type": "code",
   "execution_count": 8,
   "id": "mature-worst",
   "metadata": {},
   "outputs": [
    {
     "data": {
      "text/plain": [
       "count    50000.000000\n",
       "mean       231.162560\n",
       "std        171.351613\n",
       "min          4.000000\n",
       "25%        126.000000\n",
       "50%        173.000000\n",
       "75%        280.000000\n",
       "max       2470.000000\n",
       "Name: num_of_words, dtype: float64"
      ]
     },
     "execution_count": 8,
     "metadata": {},
     "output_type": "execute_result"
    }
   ],
   "source": [
    "# Maximum number of words in a review in our dataset\n",
    "data['num_of_words'].describe()"
   ]
  },
  {
   "cell_type": "code",
   "execution_count": 9,
   "id": "current-malta",
   "metadata": {},
   "outputs": [
    {
     "name": "stderr",
     "output_type": "stream",
     "text": [
      "C:\\Users\\shash\\.conda\\envs\\tf2.4_env\\lib\\site-packages\\seaborn\\distributions.py:2557: FutureWarning: `distplot` is a deprecated function and will be removed in a future version. Please adapt your code to use either `displot` (a figure-level function with similar flexibility) or `histplot` (an axes-level function for histograms).\n",
      "  warnings.warn(msg, FutureWarning)\n",
      "C:\\Users\\shash\\.conda\\envs\\tf2.4_env\\lib\\site-packages\\seaborn\\distributions.py:2056: FutureWarning: The `axis` variable is no longer used and will be removed. Instead, assign variables directly to `x` or `y`.\n",
      "  warnings.warn(msg, FutureWarning)\n"
     ]
    },
    {
     "data": {
      "image/png": "[encoded data removed]",
      "text/plain": [
       "<Figure size 432x288 with 1 Axes>"
      ]
     },
     "metadata": {
      "needs_background": "light"
     },
     "output_type": "display_data"
    }
   ],
   "source": [
    "sb.distplot(data['num_of_words'], bins=500, kde=False, rug=True);"
   ]
  },
  {
   "cell_type": "code",
   "execution_count": 10,
   "id": "contained-occupation",
   "metadata": {},
   "outputs": [
    {
     "data": {
      "text/html": [
       "<div>\n",
       "<style scoped>\n",
       "    .dataframe tbody tr th:only-of-type {\n",
       "        vertical-align: middle;\n",
       "    }\n",
       "\n",
       "    .dataframe tbody tr th {\n",
       "        vertical-align: top;\n",
       "    }\n",
       "\n",
       "    .dataframe thead th {\n",
       "        text-align: right;\n",
       "    }\n",
       "</style>\n",
       "<table border=\"1\" class=\"dataframe\">\n",
       "  <thead>\n",
       "    <tr style=\"text-align: right;\">\n",
       "      <th></th>\n",
       "      <th>num_of_words</th>\n",
       "    </tr>\n",
       "  </thead>\n",
       "  <tbody>\n",
       "    <tr>\n",
       "      <th>count</th>\n",
       "      <td>3903.000000</td>\n",
       "    </tr>\n",
       "    <tr>\n",
       "      <th>mean</th>\n",
       "      <td>688.627978</td>\n",
       "    </tr>\n",
       "    <tr>\n",
       "      <th>std</th>\n",
       "      <td>166.151119</td>\n",
       "    </tr>\n",
       "    <tr>\n",
       "      <th>min</th>\n",
       "      <td>501.000000</td>\n",
       "    </tr>\n",
       "    <tr>\n",
       "      <th>25%</th>\n",
       "      <td>560.000000</td>\n",
       "    </tr>\n",
       "    <tr>\n",
       "      <th>50%</th>\n",
       "      <td>643.000000</td>\n",
       "    </tr>\n",
       "    <tr>\n",
       "      <th>75%</th>\n",
       "      <td>785.000000</td>\n",
       "    </tr>\n",
       "    <tr>\n",
       "      <th>max</th>\n",
       "      <td>2470.000000</td>\n",
       "    </tr>\n",
       "  </tbody>\n",
       "</table>\n",
       "</div>"
      ],
      "text/plain": [
       "       num_of_words\n",
       "count   3903.000000\n",
       "mean     688.627978\n",
       "std      166.151119\n",
       "min      501.000000\n",
       "25%      560.000000\n",
       "50%      643.000000\n",
       "75%      785.000000\n",
       "max     2470.000000"
      ]
     },
     "execution_count": 10,
     "metadata": {},
     "output_type": "execute_result"
    }
   ],
   "source": [
    "data[data['num_of_words']>500].describe()"
   ]
  },
  {
   "cell_type": "markdown",
   "id": "standing-arbitration",
   "metadata": {},
   "source": [
    "### Data preparation"
   ]
  },
  {
   "cell_type": "code",
   "execution_count": 73,
   "id": "worth-nicholas",
   "metadata": {},
   "outputs": [],
   "source": [
    "# Summarizing reviews having more than 128 words\n",
    "max_words = 200\n",
    "\n",
    "def preprocess_text(review):\n",
    "    review = re.sub(\"<.*?>\",\" \",review)\n",
    "    review = review.strip()\n",
    "    return review\n",
    "\n",
    "def summary(review):\n",
    "    # Summarize long reviews to max_words words\n",
    "    result = summarize(review, words=max_words)\n",
    "    return result\n"
   ]
  },
  {
   "cell_type": "code",
   "execution_count": 74,
   "id": "working-convert",
   "metadata": {},
   "outputs": [
    {
     "data": {
      "text/plain": [
       "0        One of the other reviewers has mentioned that ...\n",
       "1        A wonderful little production.   The filming t...\n",
       "2        I thought this was a wonderful way to spend ti...\n",
       "3        Basically there's a family where a little boy ...\n",
       "4        Petter Mattei's \"Love in the Time of Money\" is...\n",
       "                               ...                        \n",
       "49995    I thought this movie did a down right good job...\n",
       "49996    Bad plot, bad dialogue, bad acting, idiotic di...\n",
       "49997    I am a Catholic taught in parochial elementary...\n",
       "49998    I'm going to have to disagree with the previou...\n",
       "49999    No one expects the Star Trek movies to be high...\n",
       "Name: review_processed, Length: 50000, dtype: object"
      ]
     },
     "execution_count": 74,
     "metadata": {},
     "output_type": "execute_result"
    }
   ],
   "source": [
    "data[\"review_processed\"] = data[\"review\"].apply(lambda x:preprocess_text(x))\n",
    "data['num_of_words'] = data['review_processed'].apply(lambda x:len(str(x).split()))\n",
    "data[\"review_processed\"]"
   ]
  },
  {
   "cell_type": "code",
   "execution_count": 75,
   "id": "otherwise-estonia",
   "metadata": {},
   "outputs": [
    {
     "data": {
      "text/html": [
       "<div>\n",
       "<style scoped>\n",
       "    .dataframe tbody tr th:only-of-type {\n",
       "        vertical-align: middle;\n",
       "    }\n",
       "\n",
       "    .dataframe tbody tr th {\n",
       "        vertical-align: top;\n",
       "    }\n",
       "\n",
       "    .dataframe thead th {\n",
       "        text-align: right;\n",
       "    }\n",
       "</style>\n",
       "<table border=\"1\" class=\"dataframe\">\n",
       "  <thead>\n",
       "    <tr style=\"text-align: right;\">\n",
       "      <th></th>\n",
       "      <th>review</th>\n",
       "      <th>sentiment</th>\n",
       "      <th>review_list</th>\n",
       "      <th>num_of_words</th>\n",
       "      <th>review_processed</th>\n",
       "      <th>summarized_review</th>\n",
       "    </tr>\n",
       "  </thead>\n",
       "  <tbody>\n",
       "    <tr>\n",
       "      <th>26</th>\n",
       "      <td>\"The Cell\" is an exotic masterpiece, a dizzyin...</td>\n",
       "      <td>positive</td>\n",
       "      <td>[\"The, Cell\", is, an, exotic, masterpiece,, a,...</td>\n",
       "      <td>564</td>\n",
       "      <td>\"The Cell\" is an exotic masterpiece, a dizzyin...</td>\n",
       "      <td>\"The Cell\" is an exotic masterpiece, a dizzyin...</td>\n",
       "    </tr>\n",
       "    <tr>\n",
       "      <th>29</th>\n",
       "      <td>'War movie' is a Hollywood genre that has been...</td>\n",
       "      <td>positive</td>\n",
       "      <td>['War, movie', is, a, Hollywood, genre, that, ...</td>\n",
       "      <td>610</td>\n",
       "      <td>'War movie' is a Hollywood genre that has been...</td>\n",
       "      <td>The Civil War-era \"Cold Mountain,\" starring Ju...</td>\n",
       "    </tr>\n",
       "    <tr>\n",
       "      <th>33</th>\n",
       "      <td>One of the most significant quotes from the en...</td>\n",
       "      <td>positive</td>\n",
       "      <td>[One, of, the, most, significant, quotes, from...</td>\n",
       "      <td>646</td>\n",
       "      <td>One of the most significant quotes from the en...</td>\n",
       "      <td>One of the most significant quotes from the en...</td>\n",
       "    </tr>\n",
       "    <tr>\n",
       "      <th>48</th>\n",
       "      <td>Preston Sturgis' THE POWER AND THE GLORY was u...</td>\n",
       "      <td>positive</td>\n",
       "      <td>[Preston, Sturgis', THE, POWER, AND, THE, GLOR...</td>\n",
       "      <td>700</td>\n",
       "      <td>Preston Sturgis' THE POWER AND THE GLORY was u...</td>\n",
       "      <td>Yes, like KANE it is about a legendary busines...</td>\n",
       "    </tr>\n",
       "    <tr>\n",
       "      <th>51</th>\n",
       "      <td>***SPOILERS*** All too, in real life as well a...</td>\n",
       "      <td>positive</td>\n",
       "      <td>[***SPOILERS***, All, too,, in, real, life, as...</td>\n",
       "      <td>615</td>\n",
       "      <td>***SPOILERS*** All too, in real life as well a...</td>\n",
       "      <td>Rose was really in love with Jimmy's good frie...</td>\n",
       "    </tr>\n",
       "    <tr>\n",
       "      <th>...</th>\n",
       "      <td>...</td>\n",
       "      <td>...</td>\n",
       "      <td>...</td>\n",
       "      <td>...</td>\n",
       "      <td>...</td>\n",
       "      <td>...</td>\n",
       "    </tr>\n",
       "    <tr>\n",
       "      <th>49948</th>\n",
       "      <td>It is the early morning of our discontent, and...</td>\n",
       "      <td>negative</td>\n",
       "      <td>[It, is, the, early, morning, of, our, discont...</td>\n",
       "      <td>977</td>\n",
       "      <td>It is the early morning of our discontent, and...</td>\n",
       "      <td>With these provisos in mind, I would like to s...</td>\n",
       "    </tr>\n",
       "    <tr>\n",
       "      <th>49954</th>\n",
       "      <td>Why is it that every time I mention this movie...</td>\n",
       "      <td>negative</td>\n",
       "      <td>[Why, is, it, that, every, time, I, mention, t...</td>\n",
       "      <td>530</td>\n",
       "      <td>Why is it that every time I mention this movie...</td>\n",
       "      <td>Is that really what film has become?\\nHow this...</td>\n",
       "    </tr>\n",
       "    <tr>\n",
       "      <th>49959</th>\n",
       "      <td>My thoughts on the movie, 9&lt;br /&gt;&lt;br /&gt;It was ...</td>\n",
       "      <td>negative</td>\n",
       "      <td>[My, thoughts, on, the, movie,, 9&lt;br, /&gt;&lt;br, /...</td>\n",
       "      <td>603</td>\n",
       "      <td>My thoughts on the movie, 9  It was not good, ...</td>\n",
       "      <td>but \"souls\" have the power to destroy monsters...</td>\n",
       "    </tr>\n",
       "    <tr>\n",
       "      <th>49960</th>\n",
       "      <td>John Carpenter's career is over if this sad ex...</td>\n",
       "      <td>negative</td>\n",
       "      <td>[John, Carpenter's, career, is, over, if, this...</td>\n",
       "      <td>504</td>\n",
       "      <td>John Carpenter's career is over if this sad ex...</td>\n",
       "      <td>In fact, Bon Jovi and the two Vampire girls, N...</td>\n",
       "    </tr>\n",
       "    <tr>\n",
       "      <th>49981</th>\n",
       "      <td>And I repeat, please do not see this movie! Th...</td>\n",
       "      <td>negative</td>\n",
       "      <td>[And, I, repeat,, please, do, not, see, this, ...</td>\n",
       "      <td>824</td>\n",
       "      <td>And I repeat, please do not see this movie! Th...</td>\n",
       "      <td>At least with most of the recent comedies nowa...</td>\n",
       "    </tr>\n",
       "  </tbody>\n",
       "</table>\n",
       "<p>3809 rows × 6 columns</p>\n",
       "</div>"
      ],
      "text/plain": [
       "                                                  review sentiment  \\\n",
       "26     \"The Cell\" is an exotic masterpiece, a dizzyin...  positive   \n",
       "29     'War movie' is a Hollywood genre that has been...  positive   \n",
       "33     One of the most significant quotes from the en...  positive   \n",
       "48     Preston Sturgis' THE POWER AND THE GLORY was u...  positive   \n",
       "51     ***SPOILERS*** All too, in real life as well a...  positive   \n",
       "...                                                  ...       ...   \n",
       "49948  It is the early morning of our discontent, and...  negative   \n",
       "49954  Why is it that every time I mention this movie...  negative   \n",
       "49959  My thoughts on the movie, 9<br /><br />It was ...  negative   \n",
       "49960  John Carpenter's career is over if this sad ex...  negative   \n",
       "49981  And I repeat, please do not see this movie! Th...  negative   \n",
       "\n",
       "                                             review_list  num_of_words  \\\n",
       "26     [\"The, Cell\", is, an, exotic, masterpiece,, a,...           564   \n",
       "29     ['War, movie', is, a, Hollywood, genre, that, ...           610   \n",
       "33     [One, of, the, most, significant, quotes, from...           646   \n",
       "48     [Preston, Sturgis', THE, POWER, AND, THE, GLOR...           700   \n",
       "51     [***SPOILERS***, All, too,, in, real, life, as...           615   \n",
       "...                                                  ...           ...   \n",
       "49948  [It, is, the, early, morning, of, our, discont...           977   \n",
       "49954  [Why, is, it, that, every, time, I, mention, t...           530   \n",
       "49959  [My, thoughts, on, the, movie,, 9<br, /><br, /...           603   \n",
       "49960  [John, Carpenter's, career, is, over, if, this...           504   \n",
       "49981  [And, I, repeat,, please, do, not, see, this, ...           824   \n",
       "\n",
       "                                        review_processed  \\\n",
       "26     \"The Cell\" is an exotic masterpiece, a dizzyin...   \n",
       "29     'War movie' is a Hollywood genre that has been...   \n",
       "33     One of the most significant quotes from the en...   \n",
       "48     Preston Sturgis' THE POWER AND THE GLORY was u...   \n",
       "51     ***SPOILERS*** All too, in real life as well a...   \n",
       "...                                                  ...   \n",
       "49948  It is the early morning of our discontent, and...   \n",
       "49954  Why is it that every time I mention this movie...   \n",
       "49959  My thoughts on the movie, 9  It was not good, ...   \n",
       "49960  John Carpenter's career is over if this sad ex...   \n",
       "49981  And I repeat, please do not see this movie! Th...   \n",
       "\n",
       "                                       summarized_review  \n",
       "26     \"The Cell\" is an exotic masterpiece, a dizzyin...  \n",
       "29     The Civil War-era \"Cold Mountain,\" starring Ju...  \n",
       "33     One of the most significant quotes from the en...  \n",
       "48     Yes, like KANE it is about a legendary busines...  \n",
       "51     Rose was really in love with Jimmy's good frie...  \n",
       "...                                                  ...  \n",
       "49948  With these provisos in mind, I would like to s...  \n",
       "49954  Is that really what film has become?\\nHow this...  \n",
       "49959  but \"souls\" have the power to destroy monsters...  \n",
       "49960  In fact, Bon Jovi and the two Vampire girls, N...  \n",
       "49981  At least with most of the recent comedies nowa...  \n",
       "\n",
       "[3809 rows x 6 columns]"
      ]
     },
     "execution_count": 75,
     "metadata": {},
     "output_type": "execute_result"
    }
   ],
   "source": [
    "large_reviews = data[data['num_of_words']>500]\n",
    "large_reviews"
   ]
  },
  {
   "cell_type": "code",
   "execution_count": 76,
   "id": "right-doubt",
   "metadata": {},
   "outputs": [
    {
     "data": {
      "text/plain": [
       "0        One of the other reviewers has mentioned that ...\n",
       "1        A wonderful little production.   The filming t...\n",
       "2        I thought this was a wonderful way to spend ti...\n",
       "3        Basically there's a family where a little boy ...\n",
       "4        Petter Mattei's \"Love in the Time of Money\" is...\n",
       "                               ...                        \n",
       "49995    I thought this movie did a down right good job...\n",
       "49996    Bad plot, bad dialogue, bad acting, idiotic di...\n",
       "49997    I am still a practicing Catholic but would not...\n",
       "49998    I'm going to have to disagree with the previou...\n",
       "49999    No one expects the Star Trek movies to be high...\n",
       "Name: summarized_review, Length: 50000, dtype: object"
      ]
     },
     "execution_count": 76,
     "metadata": {},
     "output_type": "execute_result"
    }
   ],
   "source": [
    "data[\"summarized_review\"] = data.apply(lambda x:summary(x[\"review_processed\"]) if x[\"num_of_words\"]>max_words else x[\"review_processed\"], axis=1)\n",
    "\n",
    "data[\"summarized_review\"]"
   ]
  },
  {
   "cell_type": "code",
   "execution_count": 77,
   "id": "global-seafood",
   "metadata": {},
   "outputs": [
    {
     "data": {
      "text/html": [
       "<div>\n",
       "<style scoped>\n",
       "    .dataframe tbody tr th:only-of-type {\n",
       "        vertical-align: middle;\n",
       "    }\n",
       "\n",
       "    .dataframe tbody tr th {\n",
       "        vertical-align: top;\n",
       "    }\n",
       "\n",
       "    .dataframe thead th {\n",
       "        text-align: right;\n",
       "    }\n",
       "</style>\n",
       "<table border=\"1\" class=\"dataframe\">\n",
       "  <thead>\n",
       "    <tr style=\"text-align: right;\">\n",
       "      <th></th>\n",
       "      <th>review</th>\n",
       "      <th>sentiment</th>\n",
       "      <th>review_list</th>\n",
       "      <th>num_of_words</th>\n",
       "      <th>review_processed</th>\n",
       "      <th>summarized_review</th>\n",
       "    </tr>\n",
       "  </thead>\n",
       "  <tbody>\n",
       "    <tr>\n",
       "      <th>31240</th>\n",
       "      <td>(Some spoilers included:)&lt;br /&gt;&lt;br /&gt;Although,...</td>\n",
       "      <td>positive</td>\n",
       "      <td>[(Some, spoilers, included:)&lt;br, /&gt;&lt;br, /&gt;Alth...</td>\n",
       "      <td>2088</td>\n",
       "      <td>(Some spoilers included:)  Although, many comm...</td>\n",
       "      <td>To quote from Encyclopedia Britannica's, surre...</td>\n",
       "    </tr>\n",
       "    <tr>\n",
       "      <th>31436</th>\n",
       "      <td>Back in the mid/late 80s, an OAV anime by titl...</td>\n",
       "      <td>positive</td>\n",
       "      <td>[Back, in, the, mid/late, 80s,, an, OAV, anime...</td>\n",
       "      <td>2111</td>\n",
       "      <td>Back in the mid/late 80s, an OAV anime by titl...</td>\n",
       "      <td>4) Originally a short red haired girl who was ...</td>\n",
       "    </tr>\n",
       "    <tr>\n",
       "      <th>31481</th>\n",
       "      <td>Match 1: Tag Team Table Match Bubba Ray and Sp...</td>\n",
       "      <td>positive</td>\n",
       "      <td>[Match, 1:, Tag, Team, Table, Match, Bubba, Ra...</td>\n",
       "      <td>2459</td>\n",
       "      <td>Match 1: Tag Team Table Match Bubba Ray and Sp...</td>\n",
       "      <td>Winner: Bubba Ray and Spike Dudley  Match 2: C...</td>\n",
       "    </tr>\n",
       "    <tr>\n",
       "      <th>40521</th>\n",
       "      <td>There's a sign on The Lost Highway that says:&lt;...</td>\n",
       "      <td>positive</td>\n",
       "      <td>[There's, a, sign, on, The, Lost, Highway, tha...</td>\n",
       "      <td>2235</td>\n",
       "      <td>There's a sign on The Lost Highway that says: ...</td>\n",
       "      <td>The main characters seen in the first half of ...</td>\n",
       "    </tr>\n",
       "  </tbody>\n",
       "</table>\n",
       "</div>"
      ],
      "text/plain": [
       "                                                  review sentiment  \\\n",
       "31240  (Some spoilers included:)<br /><br />Although,...  positive   \n",
       "31436  Back in the mid/late 80s, an OAV anime by titl...  positive   \n",
       "31481  Match 1: Tag Team Table Match Bubba Ray and Sp...  positive   \n",
       "40521  There's a sign on The Lost Highway that says:<...  positive   \n",
       "\n",
       "                                             review_list  num_of_words  \\\n",
       "31240  [(Some, spoilers, included:)<br, /><br, />Alth...          2088   \n",
       "31436  [Back, in, the, mid/late, 80s,, an, OAV, anime...          2111   \n",
       "31481  [Match, 1:, Tag, Team, Table, Match, Bubba, Ra...          2459   \n",
       "40521  [There's, a, sign, on, The, Lost, Highway, tha...          2235   \n",
       "\n",
       "                                        review_processed  \\\n",
       "31240  (Some spoilers included:)  Although, many comm...   \n",
       "31436  Back in the mid/late 80s, an OAV anime by titl...   \n",
       "31481  Match 1: Tag Team Table Match Bubba Ray and Sp...   \n",
       "40521  There's a sign on The Lost Highway that says: ...   \n",
       "\n",
       "                                       summarized_review  \n",
       "31240  To quote from Encyclopedia Britannica's, surre...  \n",
       "31436  4) Originally a short red haired girl who was ...  \n",
       "31481  Winner: Bubba Ray and Spike Dudley  Match 2: C...  \n",
       "40521  The main characters seen in the first half of ...  "
      ]
     },
     "execution_count": 77,
     "metadata": {},
     "output_type": "execute_result"
    }
   ],
   "source": [
    "data[data['num_of_words']>2000]"
   ]
  },
  {
   "cell_type": "markdown",
   "id": "flexible-crash",
   "metadata": {},
   "source": [
    "### Training"
   ]
  },
  {
   "cell_type": "code",
   "execution_count": 78,
   "id": "controlling-walker",
   "metadata": {},
   "outputs": [],
   "source": [
    "# Split dataset\n",
    "x = data['summarized_review']\n",
    "y = data['sentiment']\n",
    "x_train, x_test, y_train, y_test = train_test_split(x, y, test_size=0.5, random_state=32, shuffle=True)\n",
    "x_test, x_val, y_test, y_val = train_test_split(x_test, y_test, test_size=0.5, random_state=32, shuffle=True)"
   ]
  },
  {
   "cell_type": "code",
   "execution_count": 79,
   "id": "sexual-genesis",
   "metadata": {},
   "outputs": [
    {
     "name": "stdout",
     "output_type": "stream",
     "text": [
      "x train: (25000,)\n",
      "y train: (25000,)\n",
      "x val: (12500,)\n",
      "y val: (12500,)\n",
      "x test: (12500,)\n",
      "y test: (12500,)\n"
     ]
    }
   ],
   "source": [
    "print('x train:',x_train.shape)\n",
    "print('y train:',y_train.shape)\n",
    "print('x val:',x_val.shape)\n",
    "print('y val:',y_val.shape)\n",
    "print('x test:',x_test.shape)\n",
    "print('y test:',y_test.shape)"
   ]
  },
  {
   "cell_type": "code",
   "execution_count": 80,
   "id": "beautiful-slope",
   "metadata": {},
   "outputs": [],
   "source": [
    "encoder = LabelEncoder()\n",
    "encoder.fit(y)\n",
    "encoded_Y_test = encoder.transform(y_test)\n",
    "encoded_Y_val = encoder.transform(y_val)\n",
    "encoded_Y_train = encoder.transform(y_train)\n",
    "\n",
    "# convert integers to dummy variables (i.e. one hot encoded)\n",
    "dummy_y_test = np_utils.to_categorical(encoded_Y_test)\n",
    "dummy_y_val = np_utils.to_categorical(encoded_Y_val)\n",
    "dummy_y_train = np_utils.to_categorical(encoded_Y_train)"
   ]
  },
  {
   "cell_type": "code",
   "execution_count": 81,
   "id": "assured-component",
   "metadata": {},
   "outputs": [
    {
     "data": {
      "text/plain": [
       "46005    I liked this movie a lot, but the feeling that...\n",
       "8313     Sydney Lumet, in this performance at the age o...\n",
       "30894    This is the kind of movie that BEGS to be show...\n",
       "36493    This film is superb! Wesley Snipes Plays Blade...\n",
       "8523     The Wicker Man, starring Nicolas Cage, is by n...\n",
       "                               ...                        \n",
       "29524    Also titled--> The Magical Castle--> This one ...\n",
       "41034    When I went to watch this movie my expectation...\n",
       "7404     My definition of a great movie is if you want ...\n",
       "4771     I love low budget movies. Including those that...\n",
       "45301    I went through the highs. I went through the l...\n",
       "Name: summarized_review, Length: 12500, dtype: object"
      ]
     },
     "execution_count": 81,
     "metadata": {},
     "output_type": "execute_result"
    }
   ],
   "source": [
    "x_val"
   ]
  },
  {
   "cell_type": "code",
   "execution_count": 82,
   "id": "static-bacon",
   "metadata": {},
   "outputs": [
    {
     "data": {
      "text/plain": [
       "46005    positive\n",
       "8313     positive\n",
       "30894    negative\n",
       "36493    positive\n",
       "8523     negative\n",
       "           ...   \n",
       "29524    negative\n",
       "41034    positive\n",
       "7404     positive\n",
       "4771     negative\n",
       "45301    positive\n",
       "Name: sentiment, Length: 12500, dtype: object"
      ]
     },
     "execution_count": 82,
     "metadata": {},
     "output_type": "execute_result"
    }
   ],
   "source": [
    "y_val"
   ]
  },
  {
   "cell_type": "code",
   "execution_count": 52,
   "id": "internal-amber",
   "metadata": {},
   "outputs": [],
   "source": [
    "# BERT model\n",
    "\n",
    "bert_layer = hub.KerasLayer(\"https://tfhub.dev/tensorflow/small_bert/bert_en_uncased_L-4_H-128_A-2/1\",\n",
    "                            trainable=True)\n"
   ]
  },
  {
   "cell_type": "code",
   "execution_count": 83,
   "id": "willing-infection",
   "metadata": {},
   "outputs": [],
   "source": [
    "vocab_file = bert_layer.resolved_object.vocab_file.asset_path.numpy()\n",
    "do_lower_case = bert_layer.resolved_object.do_lower_case.numpy()"
   ]
  },
  {
   "cell_type": "code",
   "execution_count": 84,
   "id": "invalid-context",
   "metadata": {},
   "outputs": [
    {
     "name": "stdout",
     "output_type": "stream",
     "text": [
      "['hello', 'tensor', '##flow', '!']\n",
      "[7592, 23435, 12314, 999]\n"
     ]
    }
   ],
   "source": [
    "tokenizer = bert.tokenization.FullTokenizer(vocab_file, do_lower_case=True)\n",
    "tokens = tokenizer.tokenize(\"Hello TensorFlow!\")\n",
    "print(tokens)\n",
    "ids = tokenizer.convert_tokens_to_ids(tokens)\n",
    "print(ids) \n"
   ]
  },
  {
   "cell_type": "code",
   "execution_count": 85,
   "id": "inner-calculator",
   "metadata": {},
   "outputs": [
    {
     "data": {
      "text/plain": [
       "[101, 102]"
      ]
     },
     "execution_count": 85,
     "metadata": {},
     "output_type": "execute_result"
    }
   ],
   "source": [
    "tokenizer.convert_tokens_to_ids(['[CLS]', '[SEP]'])\n"
   ]
  },
  {
   "cell_type": "code",
   "execution_count": 86,
   "id": "blond-corrections",
   "metadata": {},
   "outputs": [],
   "source": [
    "def encode_sentence(s):\n",
    "    tokens = list(tokenizer.tokenize(s))\n",
    "    tokens.append('[SEP]')\n",
    "    return tokenizer.convert_tokens_to_ids(tokens)\n",
    "\n",
    "review = tf.ragged.constant([\n",
    "    encode_sentence(s) for s in x_train])\n"
   ]
  },
  {
   "cell_type": "code",
   "execution_count": 87,
   "id": "toxic-charles",
   "metadata": {},
   "outputs": [
    {
     "name": "stdout",
     "output_type": "stream",
     "text": [
      "Tokenized reviews shape [25000, None]\n"
     ]
    }
   ],
   "source": [
    "print('Tokenized reviews shape', review.shape.as_list())"
   ]
  },
  {
   "cell_type": "code",
   "execution_count": 88,
   "id": "knowing-banks",
   "metadata": {},
   "outputs": [
    {
     "data": {
      "text/plain": [
       "\"One of the other reviewers has mentioned that after watching just 1 Oz episode you'll be hooked.\\nThe first thing that struck me about Oz was its brutality and unflinching scenes of violence, which set in right from the word GO.\\nIt is called OZ as that is the nickname given to the Oswald Maximum Security State Penitentary.\\nIt focuses mainly on Emerald City, an experimental section of the prison where all the cells have glass fronts and face inwards, so privacy is not high on the agenda.\\nForget pretty pictures painted for mainstream audiences, forget charm, forget romance...OZ doesn't mess around.\\nThe first episode I ever saw struck me as so nasty it was surreal, I couldn't say I was ready for it, but as I watched more, I developed a taste for Oz, and got accustomed to the high levels of graphic violence.\\nNot just violence, but injustice (crooked guards who'll be sold out for a nickel, inmates who'll kill on order and get away with it, well mannered, middle class inmates being turned into prison bitches due to their lack of street skills or prison experience) Watching Oz, you may become comfortable with what is uncomfortable viewing....thats if you can get in touch with your darker side.\""
      ]
     },
     "execution_count": 88,
     "metadata": {},
     "output_type": "execute_result"
    }
   ],
   "source": [
    "x_train[0]"
   ]
  },
  {
   "cell_type": "code",
   "execution_count": 89,
   "id": "rolled-active",
   "metadata": {},
   "outputs": [
    {
     "name": "stdout",
     "output_type": "stream",
     "text": [
      "one [2028]\n",
      "of [1997]\n",
      "the [1996]\n",
      "other [2060]\n",
      "reviewers [15814]\n",
      "has [2038]\n",
      "mentioned [3855]\n",
      "that [2008]\n",
      "after [2044]\n",
      "watching [3666]\n",
      "just [2074]\n",
      "1 [1015]\n",
      "oz [11472]\n",
      "episode [2792]\n",
      "you [2017]\n",
      "' [1005]\n",
      "ll [2222]\n",
      "be [2022]\n",
      "hooked [13322]\n",
      ". [1012]\n",
      "the [1996]\n",
      "first [2034]\n",
      "thing [2518]\n",
      "that [2008]\n",
      "struck [4930]\n",
      "me [2033]\n",
      "about [2055]\n",
      "oz [11472]\n",
      "was [2001]\n",
      "its [2049]\n",
      "brutality [24083]\n",
      "and [1998]\n",
      "un [4895]\n",
      "##fl [10258]\n",
      "##in [2378]\n",
      "##ching [8450]\n",
      "scenes [5019]\n",
      "of [1997]\n",
      "violence [4808]\n",
      ", [1010]\n",
      "which [2029]\n",
      "set [2275]\n",
      "in [1999]\n",
      "right [2157]\n",
      "from [2013]\n",
      "the [1996]\n",
      "word [2773]\n",
      "go [2175]\n",
      ". [1012]\n",
      "it [2009]\n",
      "is [2003]\n",
      "called [2170]\n",
      "oz [11472]\n",
      "as [2004]\n",
      "that [2008]\n",
      "is [2003]\n",
      "the [1996]\n",
      "nickname [8367]\n",
      "given [2445]\n",
      "to [2000]\n",
      "the [1996]\n",
      "oswald [17411]\n",
      "maximum [4555]\n",
      "security [3036]\n",
      "state [2110]\n",
      "pen [7279]\n",
      "##ite [4221]\n",
      "##nta [12380]\n",
      "##ry [2854]\n",
      ". [1012]\n",
      "it [2009]\n",
      "focuses [7679]\n",
      "mainly [3701]\n",
      "on [2006]\n",
      "emerald [14110]\n",
      "city [2103]\n",
      ", [1010]\n",
      "an [2019]\n",
      "experimental [6388]\n",
      "section [2930]\n",
      "of [1997]\n",
      "the [1996]\n",
      "prison [3827]\n",
      "where [2073]\n",
      "all [2035]\n",
      "the [1996]\n",
      "cells [4442]\n",
      "have [2031]\n",
      "glass [3221]\n",
      "fronts [21430]\n",
      "and [1998]\n",
      "face [2227]\n",
      "inward [20546]\n",
      "##s [2015]\n",
      ", [1010]\n",
      "so [2061]\n",
      "privacy [9394]\n",
      "is [2003]\n",
      "not [2025]\n",
      "high [2152]\n",
      "on [2006]\n",
      "the [1996]\n",
      "agenda [11376]\n",
      ". [1012]\n",
      "forget [5293]\n",
      "pretty [3492]\n",
      "pictures [4620]\n",
      "painted [4993]\n",
      "for [2005]\n",
      "mainstream [7731]\n",
      "audiences [9501]\n",
      ", [1010]\n",
      "forget [5293]\n",
      "charm [11084]\n",
      ", [1010]\n",
      "forget [5293]\n",
      "romance [7472]\n",
      ". [1012]\n",
      ". [1012]\n",
      ". [1012]\n",
      "oz [11472]\n",
      "doesn [2987]\n",
      "' [1005]\n",
      "t [1056]\n",
      "mess [6752]\n",
      "around [2105]\n",
      ". [1012]\n",
      "the [1996]\n",
      "first [2034]\n",
      "episode [2792]\n",
      "i [1045]\n",
      "ever [2412]\n",
      "saw [2387]\n",
      "struck [4930]\n",
      "me [2033]\n",
      "as [2004]\n",
      "so [2061]\n",
      "nasty [11808]\n",
      "it [2009]\n",
      "was [2001]\n",
      "surreal [16524]\n",
      ", [1010]\n",
      "i [1045]\n",
      "couldn [2481]\n",
      "' [1005]\n",
      "t [1056]\n",
      "say [2360]\n",
      "i [1045]\n",
      "was [2001]\n",
      "ready [3201]\n",
      "for [2005]\n",
      "it [2009]\n",
      ", [1010]\n",
      "but [2021]\n",
      "as [2004]\n",
      "i [1045]\n",
      "watched [3427]\n",
      "more [2062]\n",
      ", [1010]\n",
      "i [1045]\n",
      "developed [2764]\n",
      "a [1037]\n",
      "taste [5510]\n",
      "for [2005]\n",
      "oz [11472]\n",
      ", [1010]\n",
      "and [1998]\n",
      "got [2288]\n",
      "accustomed [17730]\n",
      "to [2000]\n",
      "the [1996]\n",
      "high [2152]\n",
      "levels [3798]\n",
      "of [1997]\n",
      "graphic [8425]\n",
      "violence [4808]\n",
      ". [1012]\n",
      "not [2025]\n",
      "just [2074]\n",
      "violence [4808]\n",
      ", [1010]\n",
      "but [2021]\n",
      "injustice [21321]\n",
      "( [1006]\n",
      "crooked [15274]\n",
      "guards [4932]\n",
      "who [2040]\n",
      "' [1005]\n",
      "ll [2222]\n",
      "be [2022]\n",
      "sold [2853]\n",
      "out [2041]\n",
      "for [2005]\n",
      "a [1037]\n",
      "nickel [15519]\n",
      ", [1010]\n",
      "inmates [13187]\n",
      "who [2040]\n",
      "' [1005]\n",
      "ll [2222]\n",
      "kill [3102]\n",
      "on [2006]\n",
      "order [2344]\n",
      "and [1998]\n",
      "get [2131]\n",
      "away [2185]\n",
      "with [2007]\n",
      "it [2009]\n",
      ", [1010]\n",
      "well [2092]\n",
      "manner [5450]\n",
      "##ed [2098]\n",
      ", [1010]\n",
      "middle [2690]\n",
      "class [2465]\n",
      "inmates [13187]\n",
      "being [2108]\n",
      "turned [2357]\n",
      "into [2046]\n",
      "prison [3827]\n",
      "bitch [7743]\n",
      "##es [2229]\n",
      "due [2349]\n",
      "to [2000]\n",
      "their [2037]\n",
      "lack [3768]\n",
      "of [1997]\n",
      "street [2395]\n",
      "skills [4813]\n",
      "or [2030]\n",
      "prison [3827]\n",
      "experience [3325]\n",
      ") [1007]\n",
      "watching [3666]\n",
      "oz [11472]\n",
      ", [1010]\n",
      "you [2017]\n",
      "may [2089]\n",
      "become [2468]\n",
      "comfortable [6625]\n",
      "with [2007]\n",
      "what [2054]\n",
      "is [2003]\n",
      "uncomfortable [8796]\n",
      "viewing [10523]\n",
      ". [1012]\n",
      ". [1012]\n",
      ". [1012]\n",
      ". [1012]\n",
      "that [2008]\n",
      "##s [2015]\n",
      "if [2065]\n",
      "you [2017]\n",
      "can [2064]\n",
      "get [2131]\n",
      "in [1999]\n",
      "touch [3543]\n",
      "with [2007]\n",
      "your [2115]\n",
      "darker [9904]\n",
      "side [2217]\n",
      ". [1012]\n"
     ]
    }
   ],
   "source": [
    "tokenizedTweet = tokenizer.tokenize(x_train[0])\n",
    "for i in tokenizedTweet:\n",
    "    print(i, tokenizer.convert_tokens_to_ids([i]))"
   ]
  },
  {
   "cell_type": "markdown",
   "id": "current-study",
   "metadata": {},
   "source": [
    "#### Mask and input type"
   ]
  },
  {
   "cell_type": "code",
   "execution_count": 90,
   "id": "departmental-bangladesh",
   "metadata": {},
   "outputs": [],
   "source": [
    "cls = [tokenizer.convert_tokens_to_ids(['[CLS]'])]*review.shape[0]\n",
    "input_word_ids = tf.concat([cls, review], axis=-1)\n",
    "input_mask = tf.ones_like(input_word_ids).to_tensor()\n"
   ]
  },
  {
   "cell_type": "code",
   "execution_count": 91,
   "id": "laden-nightlife",
   "metadata": {},
   "outputs": [],
   "source": [
    "type_cls = tf.zeros_like(cls)\n",
    "type_review = tf.ones_like(review)\n",
    "input_type_ids = tf.concat([type_cls, type_review], axis=-1).to_tensor()"
   ]
  },
  {
   "cell_type": "code",
   "execution_count": 92,
   "id": "binding-today",
   "metadata": {},
   "outputs": [],
   "source": [
    "lens = [len(i) for i in input_word_ids]"
   ]
  },
  {
   "cell_type": "code",
   "execution_count": 93,
   "id": "operating-stupid",
   "metadata": {},
   "outputs": [
    {
     "name": "stdout",
     "output_type": "stream",
     "text": [
      "Max length is: 480\n"
     ]
    }
   ],
   "source": [
    "max_seq_length = max(lens)\n",
    "print('Max length is:', max_seq_length)"
   ]
  },
  {
   "cell_type": "code",
   "execution_count": 94,
   "id": "racial-albania",
   "metadata": {},
   "outputs": [],
   "source": [
    "# Wrapping up all in a function\n",
    "\n",
    "def encode_names(n, tokenizer):\n",
    "    tokens = list(tokenizer.tokenize(n))\n",
    "    tokens.append('[SEP]')\n",
    "    return tokenizer.convert_tokens_to_ids(tokens)\n",
    "\n",
    "def bert_encode(string_list, tokenizer, max_seq_length):\n",
    "    num_examples = len(string_list)\n",
    "\n",
    "    string_tokens = tf.ragged.constant([\n",
    "      encode_names(n, tokenizer) for n in np.array(string_list)])\n",
    "\n",
    "    cls = [tokenizer.convert_tokens_to_ids(['[CLS]'])]*string_tokens.shape[0]\n",
    "    input_word_ids = tf.concat([cls, string_tokens], axis=-1)\n",
    "\n",
    "    input_mask = tf.ones_like(input_word_ids).to_tensor(shape=(None, max_seq_length))\n",
    "\n",
    "    type_cls = tf.zeros_like(cls)\n",
    "    type_tokens = tf.ones_like(string_tokens)\n",
    "    input_type_ids = tf.concat(\n",
    "      [type_cls, type_tokens], axis=-1).to_tensor(shape=(None, max_seq_length))\n",
    "\n",
    "    inputs = {\n",
    "      'input_word_ids': input_word_ids.to_tensor(shape=(None, max_seq_length)),\n",
    "      'input_mask': input_mask,\n",
    "      'input_type_ids': input_type_ids}\n",
    "\n",
    "    return inputs"
   ]
  },
  {
   "cell_type": "code",
   "execution_count": 95,
   "id": "antique-surge",
   "metadata": {},
   "outputs": [],
   "source": [
    "X_train = bert_encode(x_train, tokenizer, max_seq_length)\n",
    "X_val = bert_encode(x_val, tokenizer, max_seq_length)\n",
    "X_test = bert_encode(x_test, tokenizer, max_seq_length)"
   ]
  },
  {
   "cell_type": "markdown",
   "id": "proved-practice",
   "metadata": {},
   "source": [
    "#### Model"
   ]
  },
  {
   "cell_type": "code",
   "execution_count": 96,
   "id": "fifty-university",
   "metadata": {},
   "outputs": [],
   "source": [
    "num_class = len(encoder.classes_)  # Based on available class selection\n",
    "max_seq_length = max_seq_length  # we calculated this a couple cells ago\n",
    "\n",
    "input_word_ids = tf.keras.layers.Input(shape=(max_seq_length,), dtype=tf.int32,\n",
    "                                       name=\"input_word_ids\")\n",
    "input_mask = tf.keras.layers.Input(shape=(max_seq_length,), dtype=tf.int32,\n",
    "                                   name=\"input_mask\")\n",
    "input_type_ids = tf.keras.layers.Input(shape=(max_seq_length,), dtype=tf.int32,\n",
    "                                    name=\"input_type_ids\")\n",
    "\n",
    "inputs={\n",
    "        'input_word_ids': input_word_ids,\n",
    "        'input_mask': input_mask,\n",
    "        'input_type_ids': input_type_ids\n",
    "        }\n",
    "\n",
    "intermediate_outputs = bert_layer(inputs)    \n",
    "pooled_output = intermediate_outputs['pooled_output']\n",
    "\n",
    "output = tf.keras.layers.Dropout(rate=0.4)(pooled_output)\n",
    "\n",
    "output = tf.keras.layers.Dense(num_class, activation='softmax', name='output')(output)\n",
    "\n",
    "model = tf.keras.Model(\n",
    "    inputs=inputs,\n",
    "        outputs=output)"
   ]
  },
  {
   "cell_type": "code",
   "execution_count": 101,
   "id": "upper-paintball",
   "metadata": {},
   "outputs": [],
   "source": [
    "epochs = 7\n",
    "batch_size = 3  # select based on your GPU resources\n",
    "eval_batch_size = batch_size\n",
    "\n",
    "train_data_size = len(dummy_y_train)\n",
    "steps_per_epoch = int(train_data_size / batch_size)\n",
    "num_train_steps = steps_per_epoch * epochs\n",
    "warmup_steps = int(epochs * train_data_size * 0.1 / batch_size)\n",
    "\n",
    "optimizer = nlp.optimization.create_optimizer(\n",
    "    2e-5, num_train_steps=num_train_steps, num_warmup_steps=warmup_steps)"
   ]
  },
  {
   "cell_type": "code",
   "execution_count": 102,
   "id": "toxic-european",
   "metadata": {},
   "outputs": [],
   "source": [
    "model.compile(optimizer=optimizer,\n",
    "              loss='categorical_crossentropy',\n",
    "              metrics=['accuracy'])"
   ]
  },
  {
   "cell_type": "code",
   "execution_count": 103,
   "id": "ceramic-range",
   "metadata": {},
   "outputs": [
    {
     "name": "stdout",
     "output_type": "stream",
     "text": [
      "Model: \"model_3\"\n",
      "__________________________________________________________________________________________________\n",
      "Layer (type)                    Output Shape         Param #     Connected to                     \n",
      "==================================================================================================\n",
      "input_mask (InputLayer)         [(None, 480)]        0                                            \n",
      "__________________________________________________________________________________________________\n",
      "input_type_ids (InputLayer)     [(None, 480)]        0                                            \n",
      "__________________________________________________________________________________________________\n",
      "input_word_ids (InputLayer)     [(None, 480)]        0                                            \n",
      "__________________________________________________________________________________________________\n",
      "keras_layer_1 (KerasLayer)      multiple             4782465     input_mask[0][0]                 \n",
      "                                                                 input_type_ids[0][0]             \n",
      "                                                                 input_word_ids[0][0]             \n",
      "__________________________________________________________________________________________________\n",
      "dropout_3 (Dropout)             (None, 128)          0           keras_layer_1[1][5]              \n",
      "__________________________________________________________________________________________________\n",
      "output (Dense)                  (None, 2)            258         dropout_3[0][0]                  \n",
      "==================================================================================================\n",
      "Total params: 4,782,723\n",
      "Trainable params: 4,782,722\n",
      "Non-trainable params: 1\n",
      "__________________________________________________________________________________________________\n"
     ]
    }
   ],
   "source": [
    "model.summary()"
   ]
  },
  {
   "cell_type": "code",
   "execution_count": 104,
   "id": "voluntary-extreme",
   "metadata": {},
   "outputs": [
    {
     "name": "stdout",
     "output_type": "stream",
     "text": [
      "Epoch 1/7\n",
      "8334/8334 [==============================] - 448s 53ms/step - loss: 0.5901 - accuracy: 0.8565 - val_loss: 0.6899 - val_accuracy: 0.8609\n",
      "Epoch 2/7\n",
      "8334/8334 [==============================] - 443s 53ms/step - loss: 0.5355 - accuracy: 0.8785 - val_loss: 0.6274 - val_accuracy: 0.8714\n",
      "Epoch 3/7\n",
      "8334/8334 [==============================] - 443s 53ms/step - loss: 0.4642 - accuracy: 0.9009 - val_loss: 0.6353 - val_accuracy: 0.8767\n",
      "Epoch 4/7\n",
      "8334/8334 [==============================] - 443s 53ms/step - loss: 0.3967 - accuracy: 0.9181 - val_loss: 0.6751 - val_accuracy: 0.8772\n",
      "Epoch 5/7\n",
      "8334/8334 [==============================] - 443s 53ms/step - loss: 0.3464 - accuracy: 0.9316 - val_loss: 0.6586 - val_accuracy: 0.8806\n",
      "Epoch 6/7\n",
      "8334/8334 [==============================] - 440s 53ms/step - loss: 0.3162 - accuracy: 0.9407 - val_loss: 0.7289 - val_accuracy: 0.8803\n",
      "Epoch 7/7\n",
      "8334/8334 [==============================] - 443s 53ms/step - loss: 0.2777 - accuracy: 0.9478 - val_loss: 0.7289 - val_accuracy: 0.8817\n"
     ]
    }
   ],
   "source": [
    "history = model.fit(X_train,\n",
    "                    dummy_y_train,\n",
    "                    epochs=epochs,\n",
    "                    batch_size=batch_size,\n",
    "                    validation_data=(X_val, dummy_y_val),\n",
    "                    verbose=1)"
   ]
  },
  {
   "cell_type": "code",
   "execution_count": 105,
   "id": "expressed-damages",
   "metadata": {},
   "outputs": [
    {
     "name": "stdout",
     "output_type": "stream",
     "text": [
      "Testing Accuracy:  0.8830\n"
     ]
    }
   ],
   "source": [
    "# Testing accuracy\n",
    "loss, accuracy = model.evaluate(X_test, dummy_y_test, verbose=False)\n",
    "print(\"Testing Accuracy:  {:.4f}\".format(accuracy))"
   ]
  },
  {
   "cell_type": "code",
   "execution_count": 106,
   "id": "actual-shepherd",
   "metadata": {},
   "outputs": [],
   "source": [
    "plt.style.use('ggplot')\n",
    "\n",
    "def plot_history(history):\n",
    "    acc = history.history['accuracy']\n",
    "    val_acc = history.history['val_accuracy']\n",
    "    loss = history.history['loss']\n",
    "    val_loss = history.history['val_loss']\n",
    "    x = range(1, len(acc) + 1)\n",
    "\n",
    "    plt.figure(figsize=(12, 5))\n",
    "    plt.subplot(1, 2, 1)\n",
    "    plt.plot(x, acc, 'b', label='Training acc')\n",
    "    plt.plot(x, val_acc, 'r', label='Validation acc')\n",
    "    plt.title('Training and validation accuracy')\n",
    "    plt.legend()\n",
    "    plt.subplot(1, 2, 2)\n",
    "    plt.plot(x, loss, 'b', label='Training loss')\n",
    "    plt.plot(x, val_loss, 'r', label='Validation loss')\n",
    "    plt.title('Training and validation loss')\n",
    "    plt.legend()"
   ]
  },
  {
   "cell_type": "code",
   "execution_count": 107,
   "id": "stopped-lancaster",
   "metadata": {},
   "outputs": [
    {
     "data": {
      "image/png": "[encoded data removed]",
      "text/plain": [
       "<Figure size 864x360 with 2 Axes>"
      ]
     },
     "metadata": {},
     "output_type": "display_data"
    }
   ],
   "source": [
    "plot_history(history)"
   ]
  },
  {
   "cell_type": "code",
   "execution_count": 108,
   "id": "julian-forum",
   "metadata": {},
   "outputs": [
    {
     "name": "stderr",
     "output_type": "stream",
     "text": [
      "WARNING:absl:Found untraced functions such as restored_function_body, restored_function_body, restored_function_body, restored_function_body, restored_function_body while saving (showing 5 of 310). These functions will not be directly callable after loading.\n",
      "WARNING:absl:Found untraced functions such as restored_function_body, restored_function_body, restored_function_body, restored_function_body, restored_function_body while saving (showing 5 of 310). These functions will not be directly callable after loading.\n"
     ]
    },
    {
     "name": "stdout",
     "output_type": "stream",
     "text": [
      "INFO:tensorflow:Assets written to: large_doc_clasiffier_bert_small_L4_H128_A-2/1\\assets\n"
     ]
    },
    {
     "name": "stderr",
     "output_type": "stream",
     "text": [
      "INFO:tensorflow:Assets written to: large_doc_clasiffier_bert_small_L4_H128_A-2/1\\assets\n"
     ]
    }
   ],
   "source": [
    "# Saving fine tuned model\n",
    "model.save('large_doc_clasiffier_bert_small_L4_H128_A-2/1')"
   ]
  },
  {
   "cell_type": "markdown",
   "id": "remarkable-stomach",
   "metadata": {},
   "source": [
    "### Let's test the model"
   ]
  },
  {
   "cell_type": "code",
   "execution_count": 152,
   "id": "polish-correspondence",
   "metadata": {},
   "outputs": [
    {
     "name": "stdout",
     "output_type": "stream",
     "text": [
      "\n",
      "Although many audio recordings of great musicians like Jascha Heifetz survive, the cinematic or televised record is limited indeed.\n",
      "This is why musical offerings like \"They Shall Have Music\" are such rare gems.\n",
      "A important aspect of the experience of watching classic films is to see them through the eyes of the moviegoer of that era.\n",
      "I must take issue with reviewer who complains about a film that is in black and white, or who feel obliged to report that their students express such reservations.\n",
      "For example, the black and white photography of John Ford's \"Stagecoach,\" is, like the still photographs of Ansel Adams, an artistic masterpiece.\n",
      "The role of a classical musician like Heifetz is to move the audience, not him or herself.\n",
      "Heifetz's emotion is conveyed through his playing, not through his body language.\n",
      "He had a rare ability to extract every emotional nuance out of the music and transfer it to his listeners.\n",
      "This is from the 1947 film \"Carnegie Hall,\" not \"They Shall Have Music\" \"Carnegie Hall\" is an even greater treasure of many great classical artists in their prime.\n",
      "We are blessed that there were film producers who, at least in these limited instances, chose to showcase these artists.\n",
      "===============\n",
      "\n",
      "Jacques Audiard's directorial debut See How They Fall aka Regarde les Hommes Tomber is our old friend, the film with two different stories that gradually converge and turn out to be the same story after all, simply told from different sides.\n",
      "Meanwhile, in a slightly different timeframe, Jean Yanne's over-the-hill travelling salesman becomes increasingly obsessed with finding the hit-man who put his cop friend into a brain-dead coma, his life, income and relationships gradually stripped away as he gets closer to his prey.\n",
      "Yet while it may offer the perfect setup for a modern-day neo noir, the film is often more surprisingly playful, more interested in quirks of character and a slightly skewed sense of humor (aptly served by the occasional ironic captions and Alexandre Desplat's half-jaunty, half-discordant score) than the traditional thriller set pieces and plot mechanics.\n",
      "Unfortunately the film is ill-served by one of the worst Region 1 DVDs released in recent years: the picture quality on Synkronized's disc is so poor at times you keep on expecting to see the audience's heads in front of the picture like a pirate disc.\n",
      "===============\n",
      "\n",
      "jim carrey can do anything. i thought this was going to be some dumb childish movie, and it TOTALLY was not. it was so incredibly funny for EVERYONE, adults & kids. i saw it once cause it was almost out of theatres, and now it's FINALLY coming out on DVD this tuesday and i'm way to excited, as you can see. you should definitely see it if you haven't already, it was so great!  Liz\n",
      "===============\n",
      "\n",
      "I think this movie is underrated. To me it felt like a gulp of fresh air. Some people complain about the implausibility of the plot, overlong sequences and lack of sex (the latter being, I believe, the main reason for \"implausibility\"; and how come there are no drunken teenagers talking dirty?!); but it's just not their thing, and good for them if they can't relate to the story. The performances are great; I'd really like to see more of the actors in other movies. The emotions are genuine. The whole unrequited love thing is presented with uncanny subtlety. And it does give you the tingly feeling you expect to get from a good movie.\n",
      "===============\n",
      "\n",
      "This TV adaptation of Sarah Waters' novel was so lovingly done I can hardly find the words to appreciate it. Not since \"Tipping the Velvet\" (also highly recommended) have I seen such a performance by the lead actresses, this time by Sally Hawkins and Elaine Cassidy. They acted with their souls, and this is what gets across to the audience! The supporting actors were well chosen, too, they made a great ensemble.  For those who think the story is just about a lesbian relationship - no, this is only one part. The other main theme is the betrayal of the person you love. And the plot has some further surprising twists. So the movie should be interesting for straight people or guys like me as well.\n",
      "===============\n",
      "\n",
      "Here's the good news first.\n",
      "\"Spirit\" is the most visually incredible animated film in current home theater release.\n",
      "The artwork and effects are revolutionary, and I recommend that you give this movie a look by virtue of the visuals alone.\n",
      "And now for the bad news.\n",
      "I really mean it when I say that the animation is the only thing this movie has going for it.\n",
      "You may remember that \"Spirit\" got badly trounced by \"Lilo and Stitch\" last summer.\n",
      "The first person who argues that it was because Disney is more well-established and had better advertising can write me a four page long essay entitled \"Why 'Lilo and Stitch''s Script Didn't Stink\".\n",
      "For all the incredible new animation technology on display in \"Spirit\", the story is almost *astonishingly* dull.\n",
      "There is a lesson here, and (needless to say) it doesn't just apply to animated movies.\n",
      "You can have the most mind-blowing visual effects ever to grace the eyes of a mortal, but if your story is boring and, more importantly, we don't care about your characters, it's bad film-making.\n",
      "The animation is still mind-blowing; I just can't wait to see what somebody with more imagination does with it.\n",
      "===============\n",
      "\n",
      "\"I fear you speak upon the rack, where men enforced do speak anything.\" This Shakespearean line from The Merchant of Venice is echoed again in the new film Rendition which introduces the viewer to the \"enhanced methods of interrogation\", renditions, which began in the Clinton Administration and have become more commonplace since the terror attacks of September 11, 2001.\n",
      "The film features an all-star cast, with Oscar winners Meryl Streep, Alan Arkin, and Reese Witherspoon, as well as Peter Sarsgaard, Jake Gyllenhaal, and Omar Metwally.\n",
      "Rendition follows an Egyptian born terrorism suspect (Metwally) who is taken by U.S. officials following his flight from South Africa to Washington DC to an undisclosed prison overseas.\n",
      "This film follows the emotional plights of the torture victim (Metwally), and those involved in obtaining the supposed information from him.\n",
      "The film may be described by some as a political piece, but is ultimately an emotional one.\n",
      "The film does not intend to preach, but rather to question and inform the audience on a topic that does not often have a human face put on it.\n",
      "The film simply depicts the emotional struggles of those involved in such grave business, and does so in a way that will affect every viewer differently.\n",
      "===============\n",
      "\n",
      "This is a terrible film. Angie Dickenson is a class act and always does well, but she does not get many roles any more and she must have needed some money to do this film. By the way, she is on screen less than 10 minutes. Oooh, wait, there is one redeeming feature in this film: Meg Foster has a small part in this film. Now, Meg has been on the screen for 35 years and is not particularly great but she has the scariest eyes of any actress I have ever seen. By name, you probably don't know her, but one look at her eyes and you will recognize her. To summarize: the acting is horrid, the story bad, and even the filmography is dreadful. A screen going to black every time the director wants to change scenes is pretty moronic. Watch any thing else but this, even Mr Ed reruns!\n",
      "===============\n",
      "\n",
      "Finally, the uncut version of \"Baby Face\" surfaces and from what source?\n",
      "We now know that Baby Face was pimped by her old man from the time she was at least fourteen years of age.\n",
      "Barbara Stanwyck is indeed amazing in the role of Lily Powers (notice the moniker), a part that called for just the right amount of sexuality coated with power, cunning, and revenge, yet tinged with virginal pretense when called for, a very difficult portrayal to make convincing.\n",
      "A word should be said about the philosophy of Friedrich Nietzsche whose will to power is stressed in \"Baby Face\" by the elderly philosopher who befriends Lilly when she is still turning tricks for her old man.\n",
      "\"Baby Face\" was released the same year Adolf Hitler came to power in Germany.\n",
      "\"Baby Face\" serves as an indictment of the popular interpretation of Nietzsche's will to power concept, especially in the final scenes.\n",
      "\"St. Louis Blues\" is also used wisely toward the end as Lily begins to see beyond materialism to eternal values.\n",
      "The restored version of \"Baby Face\" makes the film more modern in its approach and attitude toward sex as power than many a new Hollywood release.\n",
      "===============\n",
      "\n",
      "I gave this film 8 out of 10, reserving 10 for e.g Amadeus, and 9 for Slumdog Millionaire most recently. This film is close to Slumdog, but it is difficult to judge on such film without understanding Balkan life, mentality and a soul which Kusturica presents masterfully. To understand it you really need to be one of Balkan. This is an amazing movie, much better and more contemporary of his previous films, which are boring at this time, I think Kusturica is moving forward with this movie. I like humour (Balkan humour), photography is an art itself, each scene is artistic to the limit. Plot is probably a fairy tale , don't recall it now, but remember reading to my daughter-going-to sleep a similar story.\n",
      "===============\n"
     ]
    }
   ],
   "source": [
    "for review in x_test[0:10]:\n",
    "    print()\n",
    "    print(review)\n",
    "    print(\"===============\")\n",
    "    "
   ]
  },
  {
   "cell_type": "code",
   "execution_count": 145,
   "id": "thrown-southeast",
   "metadata": {},
   "outputs": [],
   "source": [
    "text = \"\"\"jim carrey can do anything. i thought this was going to be some dumb childish movie, and it TOTALLY was not. it was so incredibly funny for EVERYONE, adults & kids. i saw it once cause it was almost out of theatres, and now it's FINALLY coming out on DVD this tuesday and i'm way to excited, as you can see. you should definitely see it if you haven't already, it was so great!  Liz\"\"\"\n",
    "\n",
    "encoded_text = bert_encode([text], tokenizer, max_seq_length)"
   ]
  },
  {
   "cell_type": "code",
   "execution_count": 146,
   "id": "effective-locking",
   "metadata": {},
   "outputs": [],
   "source": [
    "result = model.predict(encoded_text)"
   ]
  },
  {
   "cell_type": "code",
   "execution_count": 147,
   "id": "voluntary-reminder",
   "metadata": {},
   "outputs": [
    {
     "data": {
      "text/plain": [
       "array(['negative', 'positive'], dtype=object)"
      ]
     },
     "execution_count": 147,
     "metadata": {},
     "output_type": "execute_result"
    }
   ],
   "source": [
    "encoder.classes_"
   ]
  },
  {
   "cell_type": "code",
   "execution_count": 148,
   "id": "overhead-vaccine",
   "metadata": {},
   "outputs": [
    {
     "name": "stdout",
     "output_type": "stream",
     "text": [
      "[[4.378137e-04 9.995622e-01]]\n",
      "Review is positive\n"
     ]
    }
   ],
   "source": [
    "print(result)\n",
    "print('Review is', 'positive' if encoder.classes_[np.argmax(result)]=='positive' else 'negative')"
   ]
  },
  {
   "cell_type": "code",
   "execution_count": 153,
   "id": "close-minute",
   "metadata": {},
   "outputs": [],
   "source": [
    "text2 = \"\"\"\n",
    "This is a terrible film. Angie Dickenson is a class act and always does well, but she does not get many roles any more and she must have needed some money to do this film. By the way, she is on screen less than 10 minutes. \n",
    "Oooh, wait, there is one redeeming feature in this film: Meg Foster has a small part in this film.\n",
    "Now, Meg has been on the screen for 35 years and is not particularly great but she has the scariest eyes of any actress I have ever seen. By name, you probably don't know her, but one look at her eyes and you will recognize her. To summarize: the acting is horrid, the story bad, and even the filmography is dreadful. \n",
    "A screen going to black every time the director wants to change scenes is pretty moronic. \n",
    "Watch any thing else but this, even Mr Ed reruns!\n",
    "\"\"\"\n",
    "\n",
    "encoded_text2 = bert_encode([text2], tokenizer, max_seq_length)"
   ]
  },
  {
   "cell_type": "code",
   "execution_count": 154,
   "id": "cross-payday",
   "metadata": {},
   "outputs": [],
   "source": [
    "result2 = model.predict(encoded_text2)"
   ]
  },
  {
   "cell_type": "code",
   "execution_count": 155,
   "id": "convenient-badge",
   "metadata": {},
   "outputs": [
    {
     "name": "stdout",
     "output_type": "stream",
     "text": [
      "[[9.9978501e-01 2.1496088e-04]]\n",
      "Review is negative\n"
     ]
    }
   ],
   "source": [
    "print(result2)\n",
    "print('Review is', 'positive' if encoder.classes_[np.argmax(result2)]=='positive' else 'negative')"
   ]
  },
  {
   "cell_type": "code",
   "execution_count": null,
   "id": "placed-melissa",
   "metadata": {},
   "outputs": [],
   "source": []
  }
 ],
 "metadata": {
  "kernelspec": {
   "display_name": "tf2.4_env",
   "language": "python",
   "name": "tf2.4_env"
  },
  "language_info": {
   "codemirror_mode": {
    "name": "ipython",
    "version": 3
   },
   "file_extension": ".py",
   "mimetype": "text/x-python",
   "name": "python",
   "nbconvert_exporter": "python",
   "pygments_lexer": "ipython3",
   "version": "3.8.8"
  }
 },
 "nbformat": 4,
 "nbformat_minor": 5
}
